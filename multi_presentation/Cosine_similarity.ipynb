{
 "cells": [
  {
   "cell_type": "code",
   "execution_count": null,
   "metadata": {},
   "outputs": [],
   "source": [
    "def install_package(package):\n",
    "    try:\n",
    "        __import__(package)\n",
    "    except ImportError:\n",
    "        print(f\"{package} not found. Installing...\")\n",
    "        %pip install {package}\n",
    "\n",
    "required_packages = ['pandas', 'tensorflow', 'tensorflow_hub', 'numpy', 'seaborn', 'matplotlib']\n",
    "\n",
    "for package in required_packages:\n",
    "    install_package(package)\n",
    "\n",
    "# Now that all packages are installed, import them\n",
    "import pandas as pd\n",
    "import tensorflow as tf\n",
    "import tensorflow_hub as hub\n",
    "import numpy as np\n",
    "import seaborn as sns\n",
    "import matplotlib.pyplot as plt\n",
    "\n",
    "use_module_url = \"https://tfhub.dev/google/universal-sentence-encoder/4\"\n",
    "use_model = hub.load(use_module_url)"
   ]
  },
  {
   "cell_type": "code",
   "execution_count": null,
   "metadata": {},
   "outputs": [],
   "source": [
    "input=[\"pi day\"]\n",
    "use_model(input)"
   ]
  },
  {
   "cell_type": "code",
   "execution_count": null,
   "metadata": {},
   "outputs": [],
   "source": [
    "input = [\"Today is Thursday\", \"Multivariable Calculus\", \"Mr. Chase\", \"Differential Equations\", \"The ducks fly at midnight\", \"economics\"]\n",
    "\n",
    "def cos_sim(vec1, vec2):\n",
    "  dotproduct=0\n",
    "  vec1_mag=0\n",
    "  vec2_mag=0\n",
    "  for i in range((512)):\n",
    "    dotproduct+=vec1[i]*vec2[i]\n",
    "    vec1_mag+=vec1[i]**2\n",
    "    vec2_mag+=vec2[i]**2\n",
    "  return (dotproduct/(vec1_mag**(1/2)*vec2_mag**(1/2)))"
   ]
  },
  {
   "cell_type": "code",
   "execution_count": null,
   "metadata": {},
   "outputs": [],
   "source": [
    "def cosine_sim(embeddings):\n",
    "    n = embeddings.shape[0]\n",
    "    sim_matrix = np.zeros((n, n))\n",
    "\n",
    "    for i in range(n):\n",
    "        for j in range(n):\n",
    "            sim_matrix[i, j] = cos_sim(embeddings[i], embeddings[j])\n",
    "\n",
    "    return sim_matrix\n",
    "\n",
    "\n",
    "embeddings = use_model(input)\n",
    "cos_sim_matrix = cosine_sim(embeddings)\n",
    "cos_sim_df = pd.DataFrame(cos_sim_matrix, index=input, columns=input)\n",
    "\n",
    "\n",
    "plt.figure(figsize=(10, 8))\n",
    "sns.heatmap(cos_sim_df, annot=True, cmap='coolwarm')\n",
    "plt.title('Cosine Similarity')\n",
    "plt.show()\n"
   ]
  }
 ],
 "metadata": {
  "language_info": {
   "name": "python"
  }
 },
 "nbformat": 4,
 "nbformat_minor": 2
}
